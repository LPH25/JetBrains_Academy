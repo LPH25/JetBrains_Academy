{
  "nbformat": 4,
  "nbformat_minor": 0,
  "metadata": {
    "hide_input": false,
    "kernelspec": {
      "display_name": "Python 3",
      "language": "python",
      "name": "python3"
    },
    "language_info": {
      "codemirror_mode": {
        "name": "ipython",
        "version": 3
      },
      "file_extension": ".py",
      "mimetype": "text/x-python",
      "name": "python",
      "nbconvert_exporter": "python",
      "pygments_lexer": "ipython3",
      "version": "3.8.5"
    },
    "toc": {
      "base_numbering": 1,
      "nav_menu": {},
      "number_sections": true,
      "sideBar": true,
      "skip_h1_title": false,
      "title_cell": "Table of Contents",
      "title_sidebar": "Contents",
      "toc_cell": false,
      "toc_position": {},
      "toc_section_display": true,
      "toc_window_display": false
    },
    "varInspector": {
      "cols": {
        "lenName": 16,
        "lenType": 16,
        "lenVar": 40
      },
      "kernels_config": {
        "python": {
          "delete_cmd_postfix": "",
          "delete_cmd_prefix": "del ",
          "library": "var_list.py",
          "varRefreshCmd": "print(var_dic_list())"
        },
        "r": {
          "delete_cmd_postfix": ") ",
          "delete_cmd_prefix": "rm(",
          "library": "var_list.r",
          "varRefreshCmd": "cat(var_dic_list()) "
        }
      },
      "types_to_exclude": [
        "module",
        "function",
        "builtin_function_or_method",
        "instance",
        "_Feature"
      ],
      "window_display": false
    },
    "colab": {
      "name": "31_search_basemaps.ipynb",
      "provenance": [],
      "include_colab_link": true
    }
  },
  "cells": [
    {
      "cell_type": "markdown",
      "metadata": {
        "id": "view-in-github",
        "colab_type": "text"
      },
      "source": [
        "<a href=\"https://colab.research.google.com/github/LPH25/JetBrains_Academy/blob/main/31_search_basemaps.ipynb\" target=\"_parent\"><img src=\"https://colab.research.google.com/assets/colab-badge.svg\" alt=\"Open In Colab\"/></a>"
      ]
    },
    {
      "cell_type": "markdown",
      "metadata": {
        "id": "LuCnihFUQu5P"
      },
      "source": [
        "[![image](https://colab.research.google.com/assets/colab-badge.svg)](https://githubtocolab.com/giswqs/leafmap/blob/master/examples/notebooks/31_search_basemaps.ipynb)\n",
        "[![image](https://binder.pangeo.io/badge_logo.svg)](https://gishub.org/leafmap-pangeo)\n",
        "\n",
        "Uncomment the following line to install [leafmap](https://leafmap.org) if needed."
      ]
    },
    {
      "cell_type": "code",
      "metadata": {
        "id": "0TAJWeLiQu5Y"
      },
      "source": [
        "# !pip install leafmap"
      ],
      "execution_count": null,
      "outputs": []
    },
    {
      "cell_type": "code",
      "metadata": {
        "id": "bh0I6PaRQu5a"
      },
      "source": [
        "import leafmap"
      ],
      "execution_count": null,
      "outputs": []
    },
    {
      "cell_type": "markdown",
      "metadata": {
        "id": "MC1HVFROQu5b"
      },
      "source": [
        "If you are using a recently implemented leafmap feature that has not yet been released to PyPI or conda-forge, you can uncomment the following line to install the development version from GitHub."
      ]
    },
    {
      "cell_type": "code",
      "metadata": {
        "id": "9Mxih-ydQu5c"
      },
      "source": [
        "# leafmap.update_package()"
      ],
      "execution_count": null,
      "outputs": []
    },
    {
      "cell_type": "markdown",
      "metadata": {
        "id": "Muea8ZhQQu5d"
      },
      "source": [
        "Search xyz tiles from [xyzservices](https://github.com/geopandas/xyzservices). "
      ]
    },
    {
      "cell_type": "code",
      "metadata": {
        "id": "2nxppMgLQu5e"
      },
      "source": [
        "leafmap.search_xyz_services(keyword=\"esri\")"
      ],
      "execution_count": null,
      "outputs": []
    },
    {
      "cell_type": "markdown",
      "metadata": {
        "id": "8GmJ6BwjQu5f"
      },
      "source": [
        "Add an xyz tile to the map."
      ]
    },
    {
      "cell_type": "code",
      "metadata": {
        "scrolled": true,
        "id": "ddRhgCcoQu5h"
      },
      "source": [
        "m = leafmap.Map()\n",
        "m.add_xyz_service(\"xyz.Esri.NatGeoWorldMap\")\n",
        "m"
      ],
      "execution_count": null,
      "outputs": []
    },
    {
      "cell_type": "markdown",
      "metadata": {
        "id": "RdcvcdwYQu5i"
      },
      "source": [
        "Search xyz tiles from [Quick Map Services](https://github.com/nextgis/quickmapservices)."
      ]
    },
    {
      "cell_type": "code",
      "metadata": {
        "id": "-GH5GqKZQu5k"
      },
      "source": [
        "leafmap.search_qms(keyword=\"google\")"
      ],
      "execution_count": null,
      "outputs": []
    },
    {
      "cell_type": "markdown",
      "metadata": {
        "id": "juaQVvFzQu5l"
      },
      "source": [
        "Add xyz tile to the map."
      ]
    },
    {
      "cell_type": "code",
      "metadata": {
        "id": "NyolR8tMQu5l"
      },
      "source": [
        "m = leafmap.Map()\n",
        "m.add_xyz_service(\"qms.Google Satellite Hybrid\")\n",
        "m"
      ],
      "execution_count": null,
      "outputs": []
    },
    {
      "cell_type": "markdown",
      "metadata": {
        "id": "NntBD7jPQu5m"
      },
      "source": [
        "Search basemaps interactively without coding."
      ]
    },
    {
      "cell_type": "markdown",
      "metadata": {
        "id": "IECKZaZvQu5n"
      },
      "source": [
        "![](https://i.imgur.com/WSxnAKY.gif)"
      ]
    }
  ]
}